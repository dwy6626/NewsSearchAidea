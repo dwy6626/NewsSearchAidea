{
 "cells": [
  {
   "cell_type": "code",
   "execution_count": 6,
   "metadata": {},
   "outputs": [],
   "source": [
    "# http://jhjoo.com/python-simplified-to-traditional/\n",
    "from opencc import OpenCC\n",
    "\n",
    "def translate(fname, outfname):\n",
    "    cc = OpenCC('s2t')\n",
    "    source = open(fname, 'r', encoding = 'utf-8')\n",
    "    result = open(outfname, 'w', encoding = 'utf-8')\n",
    "    count = 0\n",
    "    while True:\n",
    "        line = source.readline()\n",
    "        line = cc.convert(line)\n",
    "        if not line:  #readline會一直讀下去，這邊做的break\n",
    "            break\n",
    "        count = count +1\n",
    "        result.write(line) \n",
    "    source.close()        \n",
    "    result.close()\n"
   ]
  },
  {
   "cell_type": "code",
   "execution_count": 7,
   "metadata": {},
   "outputs": [],
   "source": [
    "translate('data/stop_word.txt', 'data/stop_word_zhtw.txt')"
   ]
  }
 ],
 "metadata": {
  "kernelspec": {
   "display_name": "ml2019",
   "language": "python",
   "name": "ml2019"
  },
  "language_info": {
   "codemirror_mode": {
    "name": "ipython",
    "version": 3
   },
   "file_extension": ".py",
   "mimetype": "text/x-python",
   "name": "python",
   "nbconvert_exporter": "python",
   "pygments_lexer": "ipython3",
   "version": "3.6.8"
  }
 },
 "nbformat": 4,
 "nbformat_minor": 2
}
